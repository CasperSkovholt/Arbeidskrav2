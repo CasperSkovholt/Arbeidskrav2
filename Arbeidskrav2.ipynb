{
 "cells": [
  {
   "cell_type": "markdown",
   "id": "2c37880f-3b7d-428d-8bec-556f064dfb74",
   "metadata": {},
   "source": [
    "## Oppgave 1"
   ]
  },
  {
   "cell_type": "code",
   "execution_count": 6,
   "id": "b8818615-d5e3-4659-a9f6-5d180bdcc34b",
   "metadata": {},
   "outputs": [
    {
     "name": "stdin",
     "output_type": "stream",
     "text": [
      "Hvilket år er du født 2000\n"
     ]
    },
    {
     "name": "stdout",
     "output_type": "stream",
     "text": [
      "I løpet av året 2025 blir jeg 25 år gammel.\n"
     ]
    }
   ],
   "source": [
    "alder = int(input(\"Hvilket år er du født\"))\n",
    "\n",
    "nåværende_år = 2025\n",
    "\n",
    "alder_i_2025 = nåværende_år - alder\n",
    "\n",
    "print(f\"I løpet av året {nåværende_år} blir jeg {alder_i_2025} år gammel.\")"
   ]
  },
  {
   "cell_type": "markdown",
   "id": "105d3692-6e14-410e-bcea-f49a9a5e0ba3",
   "metadata": {},
   "source": [
    "## Oppgave 2"
   ]
  },
  {
   "cell_type": "code",
   "execution_count": 14,
   "id": "00e3a8ab-805d-4f2a-ae8e-694963561ade",
   "metadata": {},
   "outputs": [
    {
     "name": "stdin",
     "output_type": "stream",
     "text": [
      "Skriv inn antall elever: 21\n"
     ]
    },
    {
     "name": "stdout",
     "output_type": "stream",
     "text": [
      "Til klassefesten med 21 må det kjøpes 6 pizzaer.\n"
     ]
    }
   ],
   "source": [
    "import math \n",
    "# for å ikke få eks 6.0 pizzaer må man bruke int og ikke float. \n",
    "antall_elever = int(input(\"Skriv inn antall elever:\"))\n",
    "\n",
    "antall_pizzaer = math.ceil(antall_elever / 4)\n",
    "\n",
    "print(f\"Til klassefesten med {antall_elever} må det kjøpes {antall_pizzaer} pizzaer.\")"
   ]
  },
  {
   "cell_type": "markdown",
   "id": "6d2de443-e86a-47dd-81d6-875e796b5a6c",
   "metadata": {},
   "source": [
    "## Oppgave 3"
   ]
  },
  {
   "cell_type": "code",
   "execution_count": 15,
   "id": "b7e2f6ba-f3f6-4ff9-ac5f-10751ec18a3b",
   "metadata": {},
   "outputs": [
    {
     "name": "stdin",
     "output_type": "stream",
     "text": [
      "Skriv inn gradtallet:  90\n"
     ]
    },
    {
     "name": "stdout",
     "output_type": "stream",
     "text": [
      "Vinkelen 90.0 grader tilsvarer 1.5708 radianer.\n"
     ]
    }
   ],
   "source": [
    "import numpy as np\n",
    "\n",
    "def grader_til_radianer(v_grad):\n",
    "    return v_grad * np.pi / 180\n",
    "\n",
    "v_grad = float(input('Skriv inn gradtallet: '))\n",
    "\n",
    "v_rad = grader_til_radianer(v_grad)\n",
    "\n",
    "print(f'Vinkelen {v_grad} grader tilsvarer {v_rad:.4f} radianer.')"
   ]
  },
  {
   "cell_type": "markdown",
   "id": "f82bba78-b885-4f61-bb01-a9e1c191f9b1",
   "metadata": {},
   "source": [
    "## Oppgve 4"
   ]
  },
  {
   "cell_type": "markdown",
   "id": "a2aff1ca-542a-4d13-b4e2-d64eee5609e1",
   "metadata": {},
   "source": [
    "#### A)"
   ]
  },
  {
   "cell_type": "code",
   "execution_count": 16,
   "id": "1bf2282b-639a-448c-a4a0-312c317eae90",
   "metadata": {},
   "outputs": [],
   "source": [
    "data = {\n",
    "    \"Norge\": [\"Oslo\", 0.634],\n",
    "    \"England\": [\"London\", 8.982],\n",
    "    \"Frankrike\": [\"Paris\", 2.161],\n",
    "    \"Italia\": [\"Roma\", 2.873]\n",
    "}"
   ]
  },
  {
   "cell_type": "markdown",
   "id": "c5db3271-6e18-441f-8c8a-6c9a5199772a",
   "metadata": {},
   "source": [
    "#### B)"
   ]
  },
  {
   "cell_type": "code",
   "execution_count": 18,
   "id": "0550cd4a-3cf1-4668-975f-74efdcc979dc",
   "metadata": {},
   "outputs": [
    {
     "name": "stdin",
     "output_type": "stream",
     "text": [
      "Skriv inn et land:  Norge\n"
     ]
    },
    {
     "name": "stdout",
     "output_type": "stream",
     "text": [
      "Oslo er hovedstaden i Norge og det er 0.634 mill. innbyggere i Oslo.\n"
     ]
    }
   ],
   "source": [
    "land = input(\"Skriv inn et land: \")\n",
    "\n",
    "if land in data:\n",
    "    hovedstad, innbyggere = data[land]\n",
    "    print(f\"{hovedstad} er hovedstaden i {land} og det er {innbyggere} mill. innbyggere i {hovedstad}.\")"
   ]
  },
  {
   "cell_type": "code",
   "execution_count": 19,
   "id": "7c720c58-8378-4ceb-86d4-456b4f87f4b9",
   "metadata": {},
   "outputs": [
    {
     "name": "stdin",
     "output_type": "stream",
     "text": [
      "Skriv inn et nytt land:  Sverige\n",
      "Skriv inn hovedstaden i Sverige:  Stockholm\n",
      "Skriv inn antall innbyggere (i mill.) i Stockholm:  987661\n"
     ]
    },
    {
     "name": "stdout",
     "output_type": "stream",
     "text": [
      "Sverige har blitt lagt til i databasen.\n",
      "Oppdatert database:\n",
      "Norge: Hovedstad = Oslo, Innbyggere = 0.634 mill.\n",
      "England: Hovedstad = London, Innbyggere = 8.982 mill.\n",
      "Frankrike: Hovedstad = Paris, Innbyggere = 2.161 mill.\n",
      "Italia: Hovedstad = Roma, Innbyggere = 2.873 mill.\n",
      "Sverige: Hovedstad = Stockholm, Innbyggere = 987661.0 mill.\n"
     ]
    }
   ],
   "source": [
    "nytt_land = input(\"Skriv inn et nytt land: \")\n",
    "\n",
    "if nytt_land in data:\n",
    "    print(f\"{nytt_land} finnes allerede i databasen.\")\n",
    "else:\n",
    "    hovedstad = input(f\"Skriv inn hovedstaden i {nytt_land}: \")\n",
    "    innbyggere = float(input(f\"Skriv inn antall innbyggere (i mill.) i {hovedstad}: \"))\n",
    "    \n",
    "    data[nytt_land] = [hovedstad, innbyggere]\n",
    "    print(f\"{nytt_land} har blitt lagt til i databasen.\")\n",
    "\n",
    "print(\"Oppdatert database:\")\n",
    "for land, info in data.items():\n",
    "    print(f\"{land}: Hovedstad = {info[0]}, Innbyggere = {info[1]} mill.\")"
   ]
  },
  {
   "cell_type": "markdown",
   "id": "a5a38721-1786-4bb1-bb19-32dd59fe6609",
   "metadata": {},
   "source": [
    "## Oppgave 5"
   ]
  },
  {
   "cell_type": "code",
   "execution_count": 20,
   "id": "53e2f460-e7a6-4ced-a03c-04e895e85103",
   "metadata": {},
   "outputs": [
    {
     "name": "stdin",
     "output_type": "stream",
     "text": [
      "Skriv inn lengden på a (kateten til trekanten):  3\n",
      "Skriv inn lengden på b (kateten til trekanten):  4\n"
     ]
    },
    {
     "name": "stdout",
     "output_type": "stream",
     "text": [
      "Arealet av figuren er 12.28 kvadratmeter.\n",
      "Den ytre omkretsen av figuren er 18.28 meter.\n"
     ]
    }
   ],
   "source": [
    "def beregn_areal_og_omkrets(a, b):\n",
    "    c = math.sqrt(a**2 + b**2)\n",
    "    \n",
    "    radius = b / 2\n",
    "    \n",
    "    trekant_areal = (a * b) / 2\n",
    "    halvsirkel_areal = (math.pi * radius**2) / 2\n",
    "    total_areal = trekant_areal + halvsirkel_areal\n",
    "    \n",
    "    halvsirkel_omkrets = math.pi * radius\n",
    "    ytre_omkrets = a + b + c + halvsirkel_omkrets\n",
    "    \n",
    "    return total_areal, ytre_omkrets\n",
    "\n",
    "a = float(input(\"Skriv inn lengden på a (kateten til trekanten): \"))\n",
    "b = float(input(\"Skriv inn lengden på b (kateten til trekanten): \"))\n",
    "\n",
    "areal, omkrets = beregn_areal_og_omkrets(a, b)\n",
    "\n",
    "print(f\"Arealet av figuren er {areal:.2f} kvadratmeter.\")\n",
    "print(f\"Den ytre omkretsen av figuren er {omkrets:.2f} meter.\")"
   ]
  },
  {
   "cell_type": "markdown",
   "id": "2f1de52e-d1cb-4a54-bb27-8d2cf110ca0e",
   "metadata": {},
   "source": [
    "## Oppgave 6"
   ]
  },
  {
   "cell_type": "code",
   "execution_count": 30,
   "id": "f6222d62-55c7-4b7f-9421-ab66e8b60f6b",
   "metadata": {},
   "outputs": [
    {
     "data": {
      "image/png": "[encoded data removed]",
      "text/plain": [
       "<Figure size 640x480 with 1 Axes>"
      ]
     },
     "metadata": {},
     "output_type": "display_data"
    }
   ],
   "source": [
    "import matplotlib.pyplot as plt\n",
    "\n",
    "def f(x):\n",
    "    return -x**2 - 5\n",
    "\n",
    "x = np.linspace(-10, 10, 200)\n",
    "y = f(x)\n",
    "\n",
    "plt.plot(x, y, label=\"f(x) = -x² - 5\")\n",
    "\n",
    "plt.title(\"Grafen til f(x) = -x² - 5\")\n",
    "plt.xlabel(\"x\")\n",
    "plt.ylabel(\"f(x)\")\n",
    "plt.grid()"
   ]
  },
  {
   "cell_type": "code",
   "execution_count": null,
   "id": "1e143b67-3cf6-4c4d-a1ac-190781cf34f3",
   "metadata": {},
   "outputs": [],
   "source": []
  }
 ],
 "metadata": {
  "kernelspec": {
   "display_name": "Python 3 (ipykernel)",
   "language": "python",
   "name": "python3"
  },
  "language_info": {
   "codemirror_mode": {
    "name": "ipython",
    "version": 3
   },
   "file_extension": ".py",
   "mimetype": "text/x-python",
   "name": "python",
   "nbconvert_exporter": "python",
   "pygments_lexer": "ipython3",
   "version": "3.11.5"
  }
 },
 "nbformat": 4,
 "nbformat_minor": 5
}
